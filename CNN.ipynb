{
  "cells": [
    {
      "cell_type": "markdown",
      "metadata": {
        "id": "view-in-github",
        "colab_type": "text"
      },
      "source": [
        "<a href=\"https://colab.research.google.com/github/tvrlexe/Machine-Learning-00/blob/main/CNN.ipynb\" target=\"_parent\"><img src=\"https://colab.research.google.com/assets/colab-badge.svg\" alt=\"Open In Colab\"/></a>"
      ]
    },
    {
      "cell_type": "code",
      "execution_count": null,
      "metadata": {
        "id": "thuWNVksWBNC"
      },
      "outputs": [],
      "source": [
        "import torch\n",
        "import matplotlib.pyplot as plt\n",
        "\n",
        "# Set device to CUDA if available\n",
        "device = \"cuda\" if torch.cuda.is_available() else \"cpu\"\n",
        "print(f\"Using device: {device}\")"
      ]
    },
    {
      "cell_type": "code",
      "execution_count": null,
      "metadata": {
        "id": "XEkH9SRbWnkS"
      },
      "outputs": [],
      "source": [
        "!pip install torchvision"
      ]
    },
    {
      "cell_type": "code",
      "execution_count": null,
      "metadata": {
        "id": "wQkHc8CHWpYa"
      },
      "outputs": [],
      "source": [
        "from torchvision.datasets import FashionMNIST\n",
        "from torchvision import transforms\n",
        "\n",
        "train_data = FashionMNIST(root='./data',\n",
        "                          train=True,\n",
        "                          download=True,\n",
        "                          transform=transforms.ToTensor())\n",
        "test_data = FashionMNIST(root='./data',\n",
        "                         train=False,\n",
        "                         download=True,\n",
        "                         transform=transforms.ToTensor())\n",
        "\n",
        "train_dataloader = torch.utils.data.DataLoader(train_data,\n",
        "                                               batch_size=32,\n",
        "                                               shuffle = True)\n",
        "\n",
        "test_dataloader = torch.utils.data.DataLoader(test_data,\n",
        "                                              batch_size=32,\n",
        "                                              shuffle = False)"
      ]
    },
    {
      "cell_type": "code",
      "execution_count": null,
      "metadata": {
        "id": "bDy_vA3pYlJd"
      },
      "outputs": [],
      "source": [
        "from torch import nn\n",
        "class FashionMNISTV0(nn.Module):\n",
        "  def __init__(self, input_shape, hidden_units, output_shape):\n",
        "    super().__init__()\n",
        "    self.conv_block_1 = nn.Sequential(\n",
        "                        nn.Conv2d(in_channels= input_shape,\n",
        "                                  out_channels = hidden_units,\n",
        "                                  kernel_size = 3,\n",
        "                                  stride = 1,\n",
        "                                  padding = 1),\n",
        "                        nn.Conv2d(in_channels= hidden_units,\n",
        "                                  out_channels = hidden_units,\n",
        "                                  kernel_size = 3,\n",
        "                                  stride = 1,\n",
        "                                  padding = 1),\n",
        "\n",
        "                        nn.ReLU(),\n",
        "                        nn.MaxPool2d(kernel_size = 2,\n",
        "                                     stride = 2),\n",
        "                        nn.ReLU())\n",
        "    self.conv_block_2 = nn.Sequential(\n",
        "                        nn.Conv2d(in_channels= hidden_units,\n",
        "                                  out_channels = hidden_units,\n",
        "                                  kernel_size = 3,\n",
        "                                  stride = 1,\n",
        "                                  padding = 1),\n",
        "                        nn.Conv2d(in_channels= hidden_units,\n",
        "                                  out_channels = hidden_units,\n",
        "                                  kernel_size = 3,\n",
        "                                  stride = 1,\n",
        "                                  padding = 1),\n",
        "\n",
        "                        nn.ReLU(),\n",
        "                        nn.MaxPool2d(kernel_size = 2,\n",
        "                                     stride = 2),\n",
        "                        nn.ReLU())\n",
        "    self.classifier = nn.Sequential(\n",
        "                        nn.Flatten(),\n",
        "                        nn.Linear(in_features = hidden_units * 7 * 7,\n",
        "                                  out_features = output_shape))\n",
        "\n",
        "  def forward(self, x):\n",
        "      return self.classifier(self.conv_block_2(self.conv_block_1(x)))\n"
      ]
    },
    {
      "cell_type": "code",
      "execution_count": null,
      "metadata": {
        "id": "BHZQyWNTbDRz"
      },
      "outputs": [],
      "source": [
        "torch.manual_seed(42)\n",
        "model_0 = FashionMNISTV0(input_shape = 1,\n",
        "                         hidden_units = 10,\n",
        "                         output_shape = len(train_data.classes)).to(device) # Move model to device"
      ]
    },
    {
      "cell_type": "code",
      "execution_count": null,
      "metadata": {
        "id": "DtWMbZxta0nP"
      },
      "outputs": [],
      "source": [
        "loss_fn = nn.CrossEntropyLoss()\n",
        "optimizer = torch.optim.SGD(params = model_0.parameters(),\n",
        "                            lr = 0.1)"
      ]
    },
    {
      "cell_type": "code",
      "execution_count": null,
      "metadata": {
        "id": "2PEZVMSSbJGa",
        "colab": {
          "base_uri": "https://localhost:8080/",
          "height": 173
        },
        "outputId": "394b76b3-f9fe-405e-cb95-82b7c461d72a"
      },
      "outputs": [
        {
          "output_type": "stream",
          "name": "stdout",
          "text": [
            "Train accuracy:  0.803733| Train Loss 0.547806| Test Accuracy 0.866014| Test Loss 0.374872\n",
            "Epoch: 1\n",
            "-------\n",
            "Train accuracy:  0.875433| Train Loss 0.352139| Test Accuracy 0.874501| Test Loss 0.344884\n",
            "Epoch: 2\n",
            "-------\n",
            "Train accuracy:  0.885250| Train Loss 0.320828| Test Accuracy 0.879293| Test Loss 0.346669\n",
            "Epoch: 3\n",
            "-------\n"
          ]
        }
      ],
      "source": [
        "from tqdm.auto import tqdm\n",
        "from timeit import default_timer as timer\n",
        "torch.manual_seed(42)\n",
        "\n",
        "epochs = 5\n",
        "\n",
        "start_time = timer()\n",
        "all_train_loss = []\n",
        "all_test_loss = []\n",
        "all_train_acc = []\n",
        "all_test_acc = []\n",
        "for epoch in tqdm(range(epochs)):\n",
        "  print(f\"Epoch: {epoch}\\n-------\")\n",
        "\n",
        "  train_acc, train_loss = 0,0\n",
        "\n",
        "  for X, y in (train_dataloader):\n",
        "    model_0.train()\n",
        "\n",
        "    # Move data to device\n",
        "    X, y = X.to(device), y.to(device)\n",
        "\n",
        "    y_logit = model_0(X)\n",
        "\n",
        "    y_pred = torch.softmax(y_logit, dim = 1).argmax(dim = 1)\n",
        "\n",
        "    train_acc += (y_pred == y).sum().item() / len(y_pred)\n",
        "\n",
        "    loss = loss_fn(y_logit, y)\n",
        "\n",
        "    train_loss += loss\n",
        "\n",
        "    optimizer.zero_grad()\n",
        "\n",
        "    loss.backward()\n",
        "\n",
        "    optimizer.step()\n",
        "\n",
        "  train_acc /= len(train_dataloader)\n",
        "  train_loss /= len(train_dataloader)\n",
        "\n",
        "  model_0.eval\n",
        "  with torch.inference_mode():\n",
        "    test_loss, test_acc = 0, 0\n",
        "    for X, y in test_dataloader:\n",
        "\n",
        "      # Move data to device\n",
        "      X, y = X.to(device), y.to(device)\n",
        "\n",
        "      test_logit = model_0(X)\n",
        "      test_pred = torch.softmax(test_logit, dim = 1).argmax(dim = 1)\n",
        "      test_acc += (test_pred == y).sum().item()/len(test_pred)\n",
        "      test_loss += loss_fn(test_logit, y)\n",
        "    test_acc /= len(test_dataloader)\n",
        "    test_loss /= len(test_dataloader)\n",
        "  all_train_loss.append(train_loss)\n",
        "  all_test_loss.append(test_loss)\n",
        "  all_train_acc.append(train_acc)\n",
        "  all_test_acc.append(test_acc)\n",
        "\n",
        "\n",
        "  print(f\"Train accuracy: {train_acc: 3f}| Train Loss{train_loss: 3f}| Test Accuracy{test_acc: 3f}| Test Loss{test_loss: 3f}\")\n",
        "\n",
        "end_time = timer()\n",
        "print(f\"Total training time: {end_time - start_time}\")"
      ]
    },
    {
      "cell_type": "code",
      "execution_count": null,
      "metadata": {
        "id": "RjRT_akllz_f"
      },
      "outputs": [],
      "source": [
        "torch.manual_seed(42)\n",
        "model_0.eval()\n",
        "with torch.inference_mode():\n",
        "  test_pred_labels = []\n",
        "  for X, y in test_dataloader:\n",
        "    X, y = X.to(device), y.to(device)\n",
        "    test_logit = model_0(X)\n",
        "    test_pred = torch.softmax(test_logit, dim = 1).argmax(dim = 1)\n",
        "    test_pred_labels.append(test_pred.cpu())\n",
        "    print(f\"Test Accuracy: {(test_pred == y).sum()/len(test_pred): 3f}\")"
      ]
    },
    {
      "cell_type": "code",
      "execution_count": null,
      "metadata": {
        "id": "k9qqdxV3pMlb"
      },
      "outputs": [],
      "source": [
        "plt.figure(figsize = (12, 7))\n",
        "\n",
        "\n",
        "epochs_list = range(epochs)\n",
        "\n",
        "\n",
        "plt.subplot(1, 2, 1)\n",
        "# Move tensors to CPU before converting to numpy\n",
        "plt.plot(epochs_list, [loss.cpu().detach().numpy() for loss in all_train_loss], label='Train Loss')\n",
        "plt.plot(epochs_list, [loss.cpu().detach().numpy() for loss in all_test_loss], label='Test Loss')\n",
        "plt.title(\"Loss\")\n",
        "plt.xlabel(\"Epochs\")\n",
        "plt.legend()\n",
        "\n",
        "\n",
        "plt.subplot(1, 2, 2)\n",
        "plt.plot(epochs_list, all_train_acc, label='Train Accuracy')\n",
        "plt.plot(epochs_list, all_test_acc, label='Test Accuracy')\n",
        "plt.title(\"Accuracy\")\n",
        "plt.xlabel(\"Epochs\")\n",
        "plt.legend()\n",
        "\n",
        "plt.tight_layout()\n",
        "plt.show()"
      ]
    },
    {
      "cell_type": "code",
      "execution_count": null,
      "metadata": {
        "id": "d9ws95OckEdi"
      },
      "outputs": [],
      "source": [
        "!pip install torchmetrics -U mlxtend"
      ]
    },
    {
      "cell_type": "code",
      "execution_count": null,
      "metadata": {
        "id": "uwi23oCZkV0E"
      },
      "outputs": [],
      "source": [
        "from torchmetrics import ConfusionMatrix\n",
        "from mlxtend.plotting import plot_confusion_matrix"
      ]
    },
    {
      "cell_type": "code",
      "execution_count": null,
      "metadata": {
        "id": "xcBCszq4mR6E"
      },
      "outputs": [],
      "source": [
        "test_pred = torch.cat(test_pred_labels)\n",
        "confmat = ConfusionMatrix(task = \"Multiclass\", num_classes = len(train_data.classes))\n",
        "\n",
        "\n",
        "confmat_tensor = confmat(preds = test_pred,\n",
        "                         target = test_data.targets)\n",
        "\n",
        "fig, ax = plot_confusion_matrix(\n",
        "    conf_mat = confmat_tensor.numpy(),\n",
        "    figsize = (10,7),\n",
        "    class_names = test_data.classes,\n",
        "    show_normed = True\n",
        ")"
      ]
    },
    {
      "cell_type": "code",
      "execution_count": null,
      "metadata": {
        "id": "jxhq2IzARhe9"
      },
      "outputs": [],
      "source": [
        "test_preds = model_0(test_data[0][0].unsqueeze(0).to(device)).argmax(dim = 1)"
      ]
    },
    {
      "cell_type": "code",
      "execution_count": null,
      "metadata": {
        "id": "-yKNZ8vfNPbg"
      },
      "outputs": [],
      "source": [
        "import random\n",
        "import numpy as np\n",
        "test_samples = []\n",
        "test_labels = []\n",
        "for sample , label in random.sample(list(test_data), k = 9):\n",
        "  test_samples.append(sample)\n",
        "  test_labels.append(label)\n",
        "\n",
        "class_names = test_data.classes\n",
        "\n",
        "sample = torch.from_numpy(np.array(test_samples)).to(device)\n",
        "\n",
        "test_preds = torch.softmax(model_0(sample), dim = 1).argmax(dim = 1)\n",
        "\n",
        "plt.figure(figsize = ( 9, 9))\n",
        "nrows = 3\n",
        "ncols = 3\n",
        "\n",
        "for i, sample in enumerate(test_samples):\n",
        "  plt.subplot(nrows, ncols, i+1)\n",
        "\n",
        "  plt.imshow(sample.squeeze().cpu(), cmap = \"gray\")\n",
        "\n",
        "  pred_label = class_names[test_preds[i]]\n",
        "  truth_label = class_names[test_labels[i]]\n",
        "  title_text = f\"Pred: {pred_label} | Truth: {truth_label}\"\n",
        "  plt.title(title_text)\n",
        "\n",
        "  if pred_label == truth_label:\n",
        "    plt.title(title_text, fontsize = 10, c=\"g\")\n",
        "  else:\n",
        "    plt.title(title_text, fontsize = 10, c = \"r\")\n",
        "  plt.axis(False)"
      ]
    }
  ],
  "metadata": {
    "accelerator": "GPU",
    "colab": {
      "gpuType": "T4",
      "provenance": [],
      "authorship_tag": "ABX9TyNh3fehulm1GfZacCqd4amP",
      "include_colab_link": true
    },
    "kernelspec": {
      "display_name": "Python 3",
      "name": "python3"
    },
    "language_info": {
      "name": "python"
    }
  },
  "nbformat": 4,
  "nbformat_minor": 0
}