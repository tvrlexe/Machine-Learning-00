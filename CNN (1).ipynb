{
 "cells": [
  {
   "cell_type": "code",
   "execution_count": 1,
   "metadata": {
    "colab": {
     "base_uri": "https://localhost:8080/"
    },
    "executionInfo": {
     "elapsed": 8405,
     "status": "ok",
     "timestamp": 1759050591481,
     "user": {
      "displayName": "Sidy Ndiaye",
      "userId": "16251770373971931656"
     },
     "user_tz": -480
    },
    "id": "thuWNVksWBNC",
    "outputId": "664dcded-68e2-4e2c-926b-e041ccd4c178"
   },
   "outputs": [
    {
     "name": "stdout",
     "output_type": "stream",
     "text": [
      "Using device: cpu\n"
     ]
    }
   ],
   "source": [
    "import torch\n",
    "import matplotlib.pyplot as plt\n",
    "\n",
    "# Set device to CUDA if available\n",
    "device = \"cuda\" if torch.cuda.is_available() else \"cpu\"\n",
    "print(f\"Using device: {device}\")"
   ]
  },
  {
   "cell_type": "code",
   "execution_count": 2,
   "metadata": {
    "colab": {
     "base_uri": "https://localhost:8080/"
    },
    "executionInfo": {
     "elapsed": 11156,
     "status": "ok",
     "timestamp": 1759050602618,
     "user": {
      "displayName": "Sidy Ndiaye",
      "userId": "16251770373971931656"
     },
     "user_tz": -480
    },
    "id": "XEkH9SRbWnkS",
    "outputId": "55a3bcdd-c801-4d42-862f-80bf712ef5b4"
   },
   "outputs": [
    {
     "name": "stdout",
     "output_type": "stream",
     "text": [
      "Requirement already satisfied: torchvision in /usr/local/lib/python3.12/dist-packages (0.23.0+cu126)\n",
      "Requirement already satisfied: numpy in /usr/local/lib/python3.12/dist-packages (from torchvision) (2.0.2)\n",
      "Requirement already satisfied: torch==2.8.0 in /usr/local/lib/python3.12/dist-packages (from torchvision) (2.8.0+cu126)\n",
      "Requirement already satisfied: pillow!=8.3.*,>=5.3.0 in /usr/local/lib/python3.12/dist-packages (from torchvision) (11.3.0)\n",
      "Requirement already satisfied: filelock in /usr/local/lib/python3.12/dist-packages (from torch==2.8.0->torchvision) (3.19.1)\n",
      "Requirement already satisfied: typing-extensions>=4.10.0 in /usr/local/lib/python3.12/dist-packages (from torch==2.8.0->torchvision) (4.15.0)\n",
      "Requirement already satisfied: setuptools in /usr/local/lib/python3.12/dist-packages (from torch==2.8.0->torchvision) (75.2.0)\n",
      "Requirement already satisfied: sympy>=1.13.3 in /usr/local/lib/python3.12/dist-packages (from torch==2.8.0->torchvision) (1.13.3)\n",
      "Requirement already satisfied: networkx in /usr/local/lib/python3.12/dist-packages (from torch==2.8.0->torchvision) (3.5)\n",
      "Requirement already satisfied: jinja2 in /usr/local/lib/python3.12/dist-packages (from torch==2.8.0->torchvision) (3.1.6)\n",
      "Requirement already satisfied: fsspec in /usr/local/lib/python3.12/dist-packages (from torch==2.8.0->torchvision) (2025.3.0)\n",
      "Requirement already satisfied: nvidia-cuda-nvrtc-cu12==12.6.77 in /usr/local/lib/python3.12/dist-packages (from torch==2.8.0->torchvision) (12.6.77)\n",
      "Requirement already satisfied: nvidia-cuda-runtime-cu12==12.6.77 in /usr/local/lib/python3.12/dist-packages (from torch==2.8.0->torchvision) (12.6.77)\n",
      "Requirement already satisfied: nvidia-cuda-cupti-cu12==12.6.80 in /usr/local/lib/python3.12/dist-packages (from torch==2.8.0->torchvision) (12.6.80)\n",
      "Requirement already satisfied: nvidia-cudnn-cu12==9.10.2.21 in /usr/local/lib/python3.12/dist-packages (from torch==2.8.0->torchvision) (9.10.2.21)\n",
      "Requirement already satisfied: nvidia-cublas-cu12==12.6.4.1 in /usr/local/lib/python3.12/dist-packages (from torch==2.8.0->torchvision) (12.6.4.1)\n",
      "Requirement already satisfied: nvidia-cufft-cu12==11.3.0.4 in /usr/local/lib/python3.12/dist-packages (from torch==2.8.0->torchvision) (11.3.0.4)\n",
      "Requirement already satisfied: nvidia-curand-cu12==10.3.7.77 in /usr/local/lib/python3.12/dist-packages (from torch==2.8.0->torchvision) (10.3.7.77)\n",
      "Requirement already satisfied: nvidia-cusolver-cu12==11.7.1.2 in /usr/local/lib/python3.12/dist-packages (from torch==2.8.0->torchvision) (11.7.1.2)\n",
      "Requirement already satisfied: nvidia-cusparse-cu12==12.5.4.2 in /usr/local/lib/python3.12/dist-packages (from torch==2.8.0->torchvision) (12.5.4.2)\n",
      "Requirement already satisfied: nvidia-cusparselt-cu12==0.7.1 in /usr/local/lib/python3.12/dist-packages (from torch==2.8.0->torchvision) (0.7.1)\n",
      "Requirement already satisfied: nvidia-nccl-cu12==2.27.3 in /usr/local/lib/python3.12/dist-packages (from torch==2.8.0->torchvision) (2.27.3)\n",
      "Requirement already satisfied: nvidia-nvtx-cu12==12.6.77 in /usr/local/lib/python3.12/dist-packages (from torch==2.8.0->torchvision) (12.6.77)\n",
      "Requirement already satisfied: nvidia-nvjitlink-cu12==12.6.85 in /usr/local/lib/python3.12/dist-packages (from torch==2.8.0->torchvision) (12.6.85)\n",
      "Requirement already satisfied: nvidia-cufile-cu12==1.11.1.6 in /usr/local/lib/python3.12/dist-packages (from torch==2.8.0->torchvision) (1.11.1.6)\n",
      "Requirement already satisfied: triton==3.4.0 in /usr/local/lib/python3.12/dist-packages (from torch==2.8.0->torchvision) (3.4.0)\n",
      "Requirement already satisfied: mpmath<1.4,>=1.1.0 in /usr/local/lib/python3.12/dist-packages (from sympy>=1.13.3->torch==2.8.0->torchvision) (1.3.0)\n",
      "Requirement already satisfied: MarkupSafe>=2.0 in /usr/local/lib/python3.12/dist-packages (from jinja2->torch==2.8.0->torchvision) (3.0.2)\n"
     ]
    }
   ],
   "source": [
    "!pip install torchvision"
   ]
  },
  {
   "cell_type": "code",
   "execution_count": 3,
   "metadata": {
    "colab": {
     "base_uri": "https://localhost:8080/"
    },
    "executionInfo": {
     "elapsed": 21394,
     "status": "ok",
     "timestamp": 1759050624015,
     "user": {
      "displayName": "Sidy Ndiaye",
      "userId": "16251770373971931656"
     },
     "user_tz": -480
    },
    "id": "wQkHc8CHWpYa",
    "outputId": "32c77e31-c5a6-4dfc-bb91-b21a003983f6"
   },
   "outputs": [
    {
     "name": "stderr",
     "output_type": "stream",
     "text": [
      "100%|██████████| 26.4M/26.4M [00:02<00:00, 12.1MB/s]\n",
      "100%|██████████| 29.5k/29.5k [00:00<00:00, 202kB/s]\n",
      "100%|██████████| 4.42M/4.42M [00:01<00:00, 3.73MB/s]\n",
      "100%|██████████| 5.15k/5.15k [00:00<00:00, 4.14MB/s]\n"
     ]
    }
   ],
   "source": [
    "from torchvision.datasets import FashionMNIST\n",
    "from torchvision import transforms\n",
    "\n",
    "train_data = FashionMNIST(root='./data',\n",
    "                          train=True,\n",
    "                          download=True,\n",
    "                          transform=transforms.ToTensor())\n",
    "test_data = FashionMNIST(root='./data',\n",
    "                         train=False,\n",
    "                         download=True,\n",
    "                         transform=transforms.ToTensor())\n",
    "\n",
    "train_dataloader = torch.utils.data.DataLoader(train_data,\n",
    "                                               batch_size=32,\n",
    "                                               shuffle = True)\n",
    "\n",
    "test_dataloader = torch.utils.data.DataLoader(test_data,\n",
    "                                              batch_size=32,\n",
    "                                              shuffle = False)"
   ]
  },
  {
   "cell_type": "code",
   "execution_count": 4,
   "metadata": {
    "executionInfo": {
     "elapsed": 17,
     "status": "ok",
     "timestamp": 1759050624041,
     "user": {
      "displayName": "Sidy Ndiaye",
      "userId": "16251770373971931656"
     },
     "user_tz": -480
    },
    "id": "bDy_vA3pYlJd"
   },
   "outputs": [],
   "source": [
    "from torch import nn\n",
    "class FashionMNISTV0(nn.Module):\n",
    "  def __init__(self, input_shape, hidden_units, output_shape):\n",
    "    super().__init__()\n",
    "    self.conv_block_1 = nn.Sequential(\n",
    "                        nn.Conv2d(in_channels= input_shape,\n",
    "                                  out_channels = hidden_units,\n",
    "                                  kernel_size = 3,\n",
    "                                  stride = 1,\n",
    "                                  padding = 1),\n",
    "                        nn.Conv2d(in_channels= hidden_units,\n",
    "                                  out_channels = hidden_units,\n",
    "                                  kernel_size = 3,\n",
    "                                  stride = 1,\n",
    "                                  padding = 1),\n",
    "\n",
    "                        nn.ReLU(),\n",
    "                        nn.MaxPool2d(kernel_size = 2,\n",
    "                                     stride = 2),\n",
    "                        nn.ReLU())\n",
    "    self.conv_block_2 = nn.Sequential(\n",
    "                        nn.Conv2d(in_channels= hidden_units,\n",
    "                                  out_channels = hidden_units,\n",
    "                                  kernel_size = 3,\n",
    "                                  stride = 1,\n",
    "                                  padding = 1),\n",
    "                        nn.Conv2d(in_channels= hidden_units,\n",
    "                                  out_channels = hidden_units,\n",
    "                                  kernel_size = 3,\n",
    "                                  stride = 1,\n",
    "                                  padding = 1),\n",
    "\n",
    "                        nn.ReLU(),\n",
    "                        nn.MaxPool2d(kernel_size = 2,\n",
    "                                     stride = 2),\n",
    "                        nn.ReLU())\n",
    "    self.classifier = nn.Sequential(\n",
    "                        nn.Flatten(),\n",
    "                        nn.Linear(in_features = hidden_units * 7 * 7,\n",
    "                                  out_features = output_shape))\n",
    "\n",
    "  def forward(self, x):\n",
    "      return self.classifier(self.conv_block_2(self.conv_block_1(x)))\n"
   ]
  },
  {
   "cell_type": "code",
   "execution_count": 5,
   "metadata": {
    "executionInfo": {
     "elapsed": 7,
     "status": "ok",
     "timestamp": 1759050624056,
     "user": {
      "displayName": "Sidy Ndiaye",
      "userId": "16251770373971931656"
     },
     "user_tz": -480
    },
    "id": "BHZQyWNTbDRz"
   },
   "outputs": [],
   "source": [
    "torch.manual_seed(42)\n",
    "model_0 = FashionMNISTV0(input_shape = 1,\n",
    "                         hidden_units = 10,\n",
    "                         output_shape = len(train_data.classes)).to(device) # Move model to device"
   ]
  },
  {
   "cell_type": "code",
   "execution_count": 6,
   "metadata": {
    "executionInfo": {
     "elapsed": 18,
     "status": "ok",
     "timestamp": 1759050624080,
     "user": {
      "displayName": "Sidy Ndiaye",
      "userId": "16251770373971931656"
     },
     "user_tz": -480
    },
    "id": "DtWMbZxta0nP"
   },
   "outputs": [],
   "source": [
    "loss_fn = nn.CrossEntropyLoss()\n",
    "optimizer = torch.optim.SGD(params = model_0.parameters(),\n",
    "                            lr = 0.1)"
   ]
  },
  {
   "cell_type": "code",
   "execution_count": null,
   "metadata": {
    "colab": {
     "base_uri": "https://localhost:8080/",
     "height": 84,
     "referenced_widgets": [
      "36628073b6dc41aaa4aaef8b4541baf0",
      "6e26bb3595d6467180519ff140c66055",
      "8868acba80ae464998fc69e4c8c2e0bf",
      "de6338ee8a17488aadc64b160f21381e",
      "67dd8b4f3d464cbf80c3345112381493",
      "bbbc247c97b4427cb6a4f8b79ccd82e1",
      "ee3b07b56e774a9aaad9d1ba34fd4f05",
      "44e0d9490b804042bcc3a1d2a11c719a",
      "1e7e34a01221482e9156586b7d618a59",
      "6700926184e74159850073dd306f1ac2",
      "5758c04e51884be1be08d779ee7b139c"
     ]
    },
    "id": "2PEZVMSSbJGa",
    "outputId": "69e60a6a-f31a-454a-978d-b35039a5db1f"
   },
   "outputs": [
    {
     "data": {
      "application/vnd.jupyter.widget-view+json": {
       "model_id": "36628073b6dc41aaa4aaef8b4541baf0",
       "version_major": 2,
       "version_minor": 0
      },
      "text/plain": [
       "  0%|          | 0/5 [00:00<?, ?it/s]"
      ]
     },
     "metadata": {},
     "output_type": "display_data"
    },
    {
     "name": "stdout",
     "output_type": "stream",
     "text": [
      "Epoch: 0\n",
      "-------\n"
     ]
    }
   ],
   "source": [
    "from tqdm.auto import tqdm\n",
    "from timeit import default_timer as timer\n",
    "torch.manual_seed(42)\n",
    "\n",
    "epochs = 5\n",
    "\n",
    "start_time = timer()\n",
    "all_train_loss = []\n",
    "all_test_loss = []\n",
    "all_train_acc = []\n",
    "all_test_acc = []\n",
    "for epoch in tqdm(range(epochs)):\n",
    "  print(f\"Epoch: {epoch}\\n-------\")\n",
    "\n",
    "  train_acc, train_loss = 0,0\n",
    "\n",
    "  for X, y in (train_dataloader):\n",
    "    model_0.train()\n",
    "\n",
    "    # Move data to device\n",
    "    X, y = X.to(device), y.to(device)\n",
    "\n",
    "    y_logit = model_0(X)\n",
    "\n",
    "    y_pred = torch.softmax(y_logit, dim = 1).argmax(dim = 1)\n",
    "\n",
    "    train_acc += (y_pred == y).sum().item() / len(y_pred)\n",
    "\n",
    "    loss = loss_fn(y_logit, y)\n",
    "\n",
    "    train_loss += loss\n",
    "\n",
    "    optimizer.zero_grad()\n",
    "\n",
    "    loss.backward()\n",
    "\n",
    "    optimizer.step()\n",
    "\n",
    "  train_acc /= len(train_dataloader)\n",
    "  train_loss /= len(train_dataloader)\n",
    "\n",
    "  model_0.eval\n",
    "  with torch.inference_mode():\n",
    "    test_loss, test_acc = 0, 0\n",
    "    for X, y in test_dataloader:\n",
    "\n",
    "      # Move data to device\n",
    "      X, y = X.to(device), y.to(device)\n",
    "\n",
    "      test_logit = model_0(X)\n",
    "      test_pred = torch.softmax(test_logit, dim = 1).argmax(dim = 1)\n",
    "      test_acc += (test_pred == y).sum().item()/len(test_pred)\n",
    "      test_loss += loss_fn(test_logit, y)\n",
    "    test_acc /= len(test_dataloader)\n",
    "    test_loss /= len(test_dataloader)\n",
    "  all_train_loss.append(train_loss)\n",
    "  all_test_loss.append(test_loss)\n",
    "  all_train_acc.append(train_acc)\n",
    "  all_test_acc.append(test_acc)\n",
    "\n",
    "\n",
    "  print(f\"Train accuracy: {train_acc: 3f}| Train Loss{train_loss: 3f}| Test Accuracy{test_acc: 3f}| Test Loss{test_loss: 3f}\")\n",
    "\n",
    "end_time = timer()\n",
    "print(f\"Total training time: {end_time - start_time}\")"
   ]
  },
  {
   "cell_type": "code",
   "execution_count": null,
   "metadata": {
    "id": "RjRT_akllz_f"
   },
   "outputs": [],
   "source": [
    "torch.manual_seed(42)\n",
    "model_0.eval()\n",
    "with torch.inference_mode():\n",
    "  test_pred_labels = []\n",
    "  for X, y in test_dataloader:\n",
    "    X, y = X.to(device), y.to(device)\n",
    "    test_logit = model_0(X)\n",
    "    test_pred = torch.softmax(test_logit, dim = 1).argmax(dim = 1)\n",
    "    test_pred_labels.append(test_pred.cpu())\n",
    "    print(f\"Test Accuracy: {(test_pred == y).sum()/len(test_pred): 3f}\")"
   ]
  },
  {
   "cell_type": "code",
   "execution_count": null,
   "metadata": {
    "id": "k9qqdxV3pMlb"
   },
   "outputs": [],
   "source": [
    "plt.figure(figsize = (12, 7))\n",
    "\n",
    "\n",
    "epochs_list = range(epochs)\n",
    "\n",
    "\n",
    "plt.subplot(1, 2, 1)\n",
    "# Move tensors to CPU before converting to numpy\n",
    "plt.plot(epochs_list, [loss.cpu().detach().numpy() for loss in all_train_loss], label='Train Loss')\n",
    "plt.plot(epochs_list, [loss.cpu().detach().numpy() for loss in all_test_loss], label='Test Loss')\n",
    "plt.title(\"Loss\")\n",
    "plt.xlabel(\"Epochs\")\n",
    "plt.legend()\n",
    "\n",
    "\n",
    "plt.subplot(1, 2, 2)\n",
    "plt.plot(epochs_list, all_train_acc, label='Train Accuracy')\n",
    "plt.plot(epochs_list, all_test_acc, label='Test Accuracy')\n",
    "plt.title(\"Accuracy\")\n",
    "plt.xlabel(\"Epochs\")\n",
    "plt.legend()\n",
    "\n",
    "plt.tight_layout()\n",
    "plt.show()"
   ]
  },
  {
   "cell_type": "code",
   "execution_count": null,
   "metadata": {
    "id": "d9ws95OckEdi"
   },
   "outputs": [],
   "source": [
    "!pip install torchmetrics -U mlxtend"
   ]
  },
  {
   "cell_type": "code",
   "execution_count": null,
   "metadata": {
    "id": "uwi23oCZkV0E"
   },
   "outputs": [],
   "source": [
    "from torchmetrics import ConfusionMatrix\n",
    "from mlxtend.plotting import plot_confusion_matrix"
   ]
  },
  {
   "cell_type": "code",
   "execution_count": null,
   "metadata": {
    "id": "xcBCszq4mR6E"
   },
   "outputs": [],
   "source": [
    "test_pred = torch.cat(test_pred_labels)\n",
    "confmat = ConfusionMatrix(task = \"Multiclass\", num_classes = len(train_data.classes))\n",
    "\n",
    "\n",
    "confmat_tensor = confmat(preds = test_pred,\n",
    "                         target = test_data.targets)\n",
    "\n",
    "fig, ax = plot_confusion_matrix(\n",
    "    conf_mat = confmat_tensor.numpy(),\n",
    "    figsize = (10,7),\n",
    "    class_names = test_data.classes,\n",
    "    show_normed = True\n",
    ")"
   ]
  },
  {
   "cell_type": "code",
   "execution_count": null,
   "metadata": {
    "id": "jxhq2IzARhe9"
   },
   "outputs": [],
   "source": [
    "test_preds = model_0(test_data[0][0].unsqueeze(0).to(device)).argmax(dim = 1)"
   ]
  },
  {
   "cell_type": "code",
   "execution_count": null,
   "metadata": {
    "id": "-yKNZ8vfNPbg"
   },
   "outputs": [],
   "source": [
    "import random\n",
    "import numpy as np\n",
    "test_samples = []\n",
    "test_labels = []\n",
    "for sample , label in random.sample(list(test_data), k = 9):\n",
    "  test_samples.append(sample)\n",
    "  test_labels.append(label)\n",
    "\n",
    "class_names = test_data.classes\n",
    "\n",
    "sample = torch.from_numpy(np.array(test_samples))\n",
    "\n",
    "test_preds = torch.softmax(model_0(sample), dim = 1).argmax(dim = 1)\n",
    "\n",
    "plt.figure(figsize = ( 9, 9))\n",
    "nrows = 3\n",
    "ncols = 3\n",
    "\n",
    "for i, sample in enumerate(test_samples):\n",
    "  plt.subplot(nrows, ncols, i+1)\n",
    "\n",
    "  plt.imshow(sample.squeeze(), cmap = \"gray\")\n",
    "\n",
    "  pred_label = class_names[test_preds[i]]\n",
    "  truth_label = class_names[test_labels[i]]\n",
    "  title_text = f\"Pred: {pred_label} | Truth: {truth_label}\"\n",
    "  plt.title(title_text)\n",
    "\n",
    "  if pred_label == truth_label:\n",
    "    plt.title(title_text, fontsize = 10, c=\"g\")\n",
    "  else:\n",
    "    plt.title(title_text, fontsize = 10, c = \"r\")\n",
    "  plt.axis(False)"
   ]
  }
 ],
 "metadata": {
  "accelerator": "GPU",
  "colab": {
   "authorship_tag": "ABX9TyPHMjSHQ9lT0suCdqEAGumT",
   "gpuType": "T4",
   "provenance": []
  },
  "kernelspec": {
   "display_name": "Python 3",
   "name": "python3"
  },
  "language_info": {
   "name": "python"
  },
  "widgets": {
   "application/vnd.jupyter.widget-state+json": {
    "1e7e34a01221482e9156586b7d618a59": {
     "model_module": "@jupyter-widgets/controls",
     "model_module_version": "1.5.0",
     "model_name": "ProgressStyleModel",
     "state": {
      "_model_module": "@jupyter-widgets/controls",
      "_model_module_version": "1.5.0",
      "_model_name": "ProgressStyleModel",
      "_view_count": null,
      "_view_module": "@jupyter-widgets/base",
      "_view_module_version": "1.2.0",
      "_view_name": "StyleView",
      "bar_color": null,
      "description_width": ""
     }
    },
    "36628073b6dc41aaa4aaef8b4541baf0": {
     "model_module": "@jupyter-widgets/controls",
     "model_module_version": "1.5.0",
     "model_name": "HBoxModel",
     "state": {
      "_dom_classes": [],
      "_model_module": "@jupyter-widgets/controls",
      "_model_module_version": "1.5.0",
      "_model_name": "HBoxModel",
      "_view_count": null,
      "_view_module": "@jupyter-widgets/controls",
      "_view_module_version": "1.5.0",
      "_view_name": "HBoxView",
      "box_style": "",
      "children": [
       "IPY_MODEL_6e26bb3595d6467180519ff140c66055",
       "IPY_MODEL_8868acba80ae464998fc69e4c8c2e0bf",
       "IPY_MODEL_de6338ee8a17488aadc64b160f21381e"
      ],
      "layout": "IPY_MODEL_67dd8b4f3d464cbf80c3345112381493"
     }
    },
    "44e0d9490b804042bcc3a1d2a11c719a": {
     "model_module": "@jupyter-widgets/base",
     "model_module_version": "1.2.0",
     "model_name": "LayoutModel",
     "state": {
      "_model_module": "@jupyter-widgets/base",
      "_model_module_version": "1.2.0",
      "_model_name": "LayoutModel",
      "_view_count": null,
      "_view_module": "@jupyter-widgets/base",
      "_view_module_version": "1.2.0",
      "_view_name": "LayoutView",
      "align_content": null,
      "align_items": null,
      "align_self": null,
      "border": null,
      "bottom": null,
      "display": null,
      "flex": null,
      "flex_flow": null,
      "grid_area": null,
      "grid_auto_columns": null,
      "grid_auto_flow": null,
      "grid_auto_rows": null,
      "grid_column": null,
      "grid_gap": null,
      "grid_row": null,
      "grid_template_areas": null,
      "grid_template_columns": null,
      "grid_template_rows": null,
      "height": null,
      "justify_content": null,
      "justify_items": null,
      "left": null,
      "margin": null,
      "max_height": null,
      "max_width": null,
      "min_height": null,
      "min_width": null,
      "object_fit": null,
      "object_position": null,
      "order": null,
      "overflow": null,
      "overflow_x": null,
      "overflow_y": null,
      "padding": null,
      "right": null,
      "top": null,
      "visibility": null,
      "width": null
     }
    },
    "5758c04e51884be1be08d779ee7b139c": {
     "model_module": "@jupyter-widgets/controls",
     "model_module_version": "1.5.0",
     "model_name": "DescriptionStyleModel",
     "state": {
      "_model_module": "@jupyter-widgets/controls",
      "_model_module_version": "1.5.0",
      "_model_name": "DescriptionStyleModel",
      "_view_count": null,
      "_view_module": "@jupyter-widgets/base",
      "_view_module_version": "1.2.0",
      "_view_name": "StyleView",
      "description_width": ""
     }
    },
    "6700926184e74159850073dd306f1ac2": {
     "model_module": "@jupyter-widgets/base",
     "model_module_version": "1.2.0",
     "model_name": "LayoutModel",
     "state": {
      "_model_module": "@jupyter-widgets/base",
      "_model_module_version": "1.2.0",
      "_model_name": "LayoutModel",
      "_view_count": null,
      "_view_module": "@jupyter-widgets/base",
      "_view_module_version": "1.2.0",
      "_view_name": "LayoutView",
      "align_content": null,
      "align_items": null,
      "align_self": null,
      "border": null,
      "bottom": null,
      "display": null,
      "flex": null,
      "flex_flow": null,
      "grid_area": null,
      "grid_auto_columns": null,
      "grid_auto_flow": null,
      "grid_auto_rows": null,
      "grid_column": null,
      "grid_gap": null,
      "grid_row": null,
      "grid_template_areas": null,
      "grid_template_columns": null,
      "grid_template_rows": null,
      "height": null,
      "justify_content": null,
      "justify_items": null,
      "left": null,
      "margin": null,
      "max_height": null,
      "max_width": null,
      "min_height": null,
      "min_width": null,
      "object_fit": null,
      "object_position": null,
      "order": null,
      "overflow": null,
      "overflow_x": null,
      "overflow_y": null,
      "padding": null,
      "right": null,
      "top": null,
      "visibility": null,
      "width": null
     }
    },
    "67dd8b4f3d464cbf80c3345112381493": {
     "model_module": "@jupyter-widgets/base",
     "model_module_version": "1.2.0",
     "model_name": "LayoutModel",
     "state": {
      "_model_module": "@jupyter-widgets/base",
      "_model_module_version": "1.2.0",
      "_model_name": "LayoutModel",
      "_view_count": null,
      "_view_module": "@jupyter-widgets/base",
      "_view_module_version": "1.2.0",
      "_view_name": "LayoutView",
      "align_content": null,
      "align_items": null,
      "align_self": null,
      "border": null,
      "bottom": null,
      "display": null,
      "flex": null,
      "flex_flow": null,
      "grid_area": null,
      "grid_auto_columns": null,
      "grid_auto_flow": null,
      "grid_auto_rows": null,
      "grid_column": null,
      "grid_gap": null,
      "grid_row": null,
      "grid_template_areas": null,
      "grid_template_columns": null,
      "grid_template_rows": null,
      "height": null,
      "justify_content": null,
      "justify_items": null,
      "left": null,
      "margin": null,
      "max_height": null,
      "max_width": null,
      "min_height": null,
      "min_width": null,
      "object_fit": null,
      "object_position": null,
      "order": null,
      "overflow": null,
      "overflow_x": null,
      "overflow_y": null,
      "padding": null,
      "right": null,
      "top": null,
      "visibility": null,
      "width": null
     }
    },
    "6e26bb3595d6467180519ff140c66055": {
     "model_module": "@jupyter-widgets/controls",
     "model_module_version": "1.5.0",
     "model_name": "HTMLModel",
     "state": {
      "_dom_classes": [],
      "_model_module": "@jupyter-widgets/controls",
      "_model_module_version": "1.5.0",
      "_model_name": "HTMLModel",
      "_view_count": null,
      "_view_module": "@jupyter-widgets/controls",
      "_view_module_version": "1.5.0",
      "_view_name": "HTMLView",
      "description": "",
      "description_tooltip": null,
      "layout": "IPY_MODEL_bbbc247c97b4427cb6a4f8b79ccd82e1",
      "placeholder": "​",
      "style": "IPY_MODEL_ee3b07b56e774a9aaad9d1ba34fd4f05",
      "value": "  0%"
     }
    },
    "8868acba80ae464998fc69e4c8c2e0bf": {
     "model_module": "@jupyter-widgets/controls",
     "model_module_version": "1.5.0",
     "model_name": "FloatProgressModel",
     "state": {
      "_dom_classes": [],
      "_model_module": "@jupyter-widgets/controls",
      "_model_module_version": "1.5.0",
      "_model_name": "FloatProgressModel",
      "_view_count": null,
      "_view_module": "@jupyter-widgets/controls",
      "_view_module_version": "1.5.0",
      "_view_name": "ProgressView",
      "bar_style": "",
      "description": "",
      "description_tooltip": null,
      "layout": "IPY_MODEL_44e0d9490b804042bcc3a1d2a11c719a",
      "max": 5,
      "min": 0,
      "orientation": "horizontal",
      "style": "IPY_MODEL_1e7e34a01221482e9156586b7d618a59",
      "value": 0
     }
    },
    "bbbc247c97b4427cb6a4f8b79ccd82e1": {
     "model_module": "@jupyter-widgets/base",
     "model_module_version": "1.2.0",
     "model_name": "LayoutModel",
     "state": {
      "_model_module": "@jupyter-widgets/base",
      "_model_module_version": "1.2.0",
      "_model_name": "LayoutModel",
      "_view_count": null,
      "_view_module": "@jupyter-widgets/base",
      "_view_module_version": "1.2.0",
      "_view_name": "LayoutView",
      "align_content": null,
      "align_items": null,
      "align_self": null,
      "border": null,
      "bottom": null,
      "display": null,
      "flex": null,
      "flex_flow": null,
      "grid_area": null,
      "grid_auto_columns": null,
      "grid_auto_flow": null,
      "grid_auto_rows": null,
      "grid_column": null,
      "grid_gap": null,
      "grid_row": null,
      "grid_template_areas": null,
      "grid_template_columns": null,
      "grid_template_rows": null,
      "height": null,
      "justify_content": null,
      "justify_items": null,
      "left": null,
      "margin": null,
      "max_height": null,
      "max_width": null,
      "min_height": null,
      "min_width": null,
      "object_fit": null,
      "object_position": null,
      "order": null,
      "overflow": null,
      "overflow_x": null,
      "overflow_y": null,
      "padding": null,
      "right": null,
      "top": null,
      "visibility": null,
      "width": null
     }
    },
    "de6338ee8a17488aadc64b160f21381e": {
     "model_module": "@jupyter-widgets/controls",
     "model_module_version": "1.5.0",
     "model_name": "HTMLModel",
     "state": {
      "_dom_classes": [],
      "_model_module": "@jupyter-widgets/controls",
      "_model_module_version": "1.5.0",
      "_model_name": "HTMLModel",
      "_view_count": null,
      "_view_module": "@jupyter-widgets/controls",
      "_view_module_version": "1.5.0",
      "_view_name": "HTMLView",
      "description": "",
      "description_tooltip": null,
      "layout": "IPY_MODEL_6700926184e74159850073dd306f1ac2",
      "placeholder": "​",
      "style": "IPY_MODEL_5758c04e51884be1be08d779ee7b139c",
      "value": " 0/5 [00:00&lt;?, ?it/s]"
     }
    },
    "ee3b07b56e774a9aaad9d1ba34fd4f05": {
     "model_module": "@jupyter-widgets/controls",
     "model_module_version": "1.5.0",
     "model_name": "DescriptionStyleModel",
     "state": {
      "_model_module": "@jupyter-widgets/controls",
      "_model_module_version": "1.5.0",
      "_model_name": "DescriptionStyleModel",
      "_view_count": null,
      "_view_module": "@jupyter-widgets/base",
      "_view_module_version": "1.2.0",
      "_view_name": "StyleView",
      "description_width": ""
     }
    }
   },
   "state": {}
  }
 },
 "nbformat": 4,
 "nbformat_minor": 0
}
